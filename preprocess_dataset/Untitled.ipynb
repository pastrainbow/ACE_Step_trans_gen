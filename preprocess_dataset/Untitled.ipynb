{
 "cells": [
  {
   "cell_type": "code",
   "execution_count": null,
   "id": "45edcca1-78a8-453a-b2ff-4617325a4770",
   "metadata": {},
   "outputs": [],
   "source": [
    "import pandas as pd\n",
    "import ast\n",
    "\n",
    "import os\n",
    "from pathlib import Path\n",
    "\n",
    "# -------- Load track and genre data once --------\n",
    "track_df_path = \"fma_metadata/tracks.csv\"\n",
    "genre_df_path = \"fma_metadata/genres.csv\"\n",
    "track_df = pd.read_csv(track_df_path, skiprows=1, dtype={'Unnamed: 0': str}).drop(index=0)\n",
    "track_df = track_df.rename(columns={'Unnamed: 0': 'track_id'})[['track_id', 'genre_top', 'genres', 'genres_all']]\n",
    "track_df['track_id'] = track_df['track_id'].astype(int)\n",
    "genre_df = pd.read_csv(genre_df_path)\n",
    "\n",
    "def get_genres_from_id(track_id):\n",
    "    row = track_df[track_df['track_id'] == track_id]\n",
    "    genre_ids = ast.literal_eval(row['genres_all'].values[0])\n",
    "    genre_strs = []\n",
    "    for genre_id in genre_ids:\n",
    "        genre_row = genre_df[genre_df['genre_id'] == genre_id]\n",
    "        genre_strs.append(genre_row['title'].values[0])\n",
    "    return genre_strs\n",
    "\n",
    "\n",
    "\n",
    "def get_all_inst_track_paths(dir_path):\n",
    "    return [str(file) for file in Path(dir_path).glob('*.Instrumental.mp3') if file.is_file()]\n",
    "\n",
    "inst_track_dir_path=\"\"\n",
    "noised_inst_track_dir_path=\"\"\n",
    "\n",
    "inst_track_dir_path = get_all_\n"
   ]
  }
 ],
 "metadata": {
  "kernelspec": {
   "display_name": "Python 3 (ipykernel)",
   "language": "python",
   "name": "python3"
  },
  "language_info": {
   "codemirror_mode": {
    "name": "ipython",
    "version": 3
   },
   "file_extension": ".py",
   "mimetype": "text/x-python",
   "name": "python",
   "nbconvert_exporter": "python",
   "pygments_lexer": "ipython3",
   "version": "3.13.5"
  }
 },
 "nbformat": 4,
 "nbformat_minor": 5
}
